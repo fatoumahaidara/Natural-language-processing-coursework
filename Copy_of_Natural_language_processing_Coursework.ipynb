{
  "nbformat": 4,
  "nbformat_minor": 0,
  "metadata": {
    "colab": {
      "provenance": [],
      "mount_file_id": "1Sunyv3JoD2mIGMzKba893chNvMg7zHLb",
      "authorship_tag": "ABX9TyMfMbFnF4eglJTy166kS8nQ",
      "include_colab_link": true
    },
    "kernelspec": {
      "name": "python3",
      "display_name": "Python 3"
    },
    "language_info": {
      "name": "python"
    }
  },
  "cells": [
    {
      "cell_type": "markdown",
      "metadata": {
        "id": "view-in-github",
        "colab_type": "text"
      },
      "source": [
        "<a href=\"https://colab.research.google.com/github/fatoumahaidara/Natural-language-processing-coursework/blob/main/Copy_of_Natural_language_processing_Coursework.ipynb\" target=\"_parent\"><img src=\"https://colab.research.google.com/assets/colab-badge.svg\" alt=\"Open In Colab\"/></a>"
      ]
    },
    {
      "cell_type": "code",
      "execution_count": null,
      "metadata": {
        "id": "aaa2O6B8uan2"
      },
      "outputs": [],
      "source": []
    }
  ]
}